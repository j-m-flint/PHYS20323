{
 "cells": [
  {
   "cell_type": "markdown",
   "metadata": {},
   "source": [
    "# Lecture 17 - Number Representation and Precision + HW 7"
   ]
  },
  {
   "cell_type": "markdown",
   "metadata": {},
   "source": [
    "#### Real numbers are stored with a decimal precision (or mantissa) and the decimal exponent range. The mantissa contains the significant figures of the number (and thereby the precision of the number). A number like (9.90625)10 in the decimal representation is given in a binary representation by\n",
    "\n",
    "(1001.11101)$_2$ = $1\\times2^3 +0\\times2^2 +0\\times2^1 +1\\times2^0 +1\\times2^{−1} +1\\times2^{−2} +1\\times2^{−3} +0\\times2^{−4} +1 \\times 2^{−5}$\n",
    "\n",
    "and it has an exact machine number representation since we need a finite number of bits to represent this number. This representation is however not very practical. Rather, we prefer to use a scientific notation. In the decimal system we would write a number like 9.90625 in what is called the normalized scientific notation. This means simply that the decimal point is shifted and appropriate powers of 10 are supplied. Our number could then be written as\n",
    "$9.90625 = 0.990625 \\times 10^1$,\n",
    "and a real non-zero number could be generalized as\n",
    "$x = \\pm r \\times 10^n$,\n",
    "with a $r$ a number in the range $1/10 \\le r < 1$. In a similar way we can represent a binary number in\n",
    "scientific notation as\n",
    "$x = \\pm q \\times 2^m$,\n",
    "with a $q$ a number in the range $1/2 \\le q < 1$."
   ]
  },
  {
   "cell_type": "markdown",
   "metadata": {},
   "source": [
    "In a typical computer, floating-point numbers are represented in the way described above, but with certain restrictions on q and m imposed by the available word length. In the machine, our number x is represented as\n",
    "\n",
    "$x = (−1)^s \\times mantissa \\times 2^{exponent}$\n",
    "\n",
    "where $s$ is the sign bit, and the exponent gives the available range. With a single-precision word, 32 bits, 8 bits would typically be reserved for the exponent, 1 bit for the sign and 23 for the mantissa. "
   ]
  },
  {
   "cell_type": "markdown",
   "metadata": {},
   "source": [
    "## 32-bit – single precision (old computers):\n",
    "\n",
    "Sign bit: 1 bit\n",
    "\n",
    "Exponent: 8 bits\n",
    "\n",
    "Significand precision: 24 bits (23 explicitly stored)\n",
    "\n",
    "This gives 6–9 significant decimal digits precision!"
   ]
  },
  {
   "cell_type": "markdown",
   "metadata": {},
   "source": [
    "## 64-bit = double precision (normal modern computers):\n",
    "\n",
    "Sign bit: 1 bit\n",
    "\n",
    "Exponent: 11 bits\n",
    "\n",
    "Significand precision: 53 bits (52 explicitly stored)\n",
    "\n",
    "This gives 15–17 significant decimal digits precision.\n",
    "This the the Python default standard\n"
   ]
  },
  {
   "cell_type": "markdown",
   "metadata": {},
   "source": [
    "## 128-bit = quadruple precision:\n",
    "\n",
    "Sign bit: 1 bit\n",
    "\n",
    "Exponent: 15 bits\n",
    "\n",
    "Significand precision: 113 bits (112 explicitly stored)\n",
    "\n",
    "This gives 33–36 significant decimal digits precision.\n"
   ]
  },
  {
   "cell_type": "markdown",
   "metadata": {},
   "source": [
    "## 256-bit – Octuple precision:\n",
    "\n",
    "Sign bit: 1 bit\n",
    "    \n",
    "Exponent: 19 bits\n",
    "    \n",
    "Significand precision: 237 bits (236 explicitly stored)\n",
    "\n",
    "THIS IS RARELY IMPLEMENTED\n",
    "\n",
    "\n"
   ]
  },
  {
   "cell_type": "markdown",
   "metadata": {},
   "source": [
    "__Throrecticcaly the Maximum unsigned integer is:__ 115792089237316195423570985008687907853269984665640564039457584007913129639935\n"
   ]
  },
  {
   "cell_type": "code",
   "execution_count": 1,
   "metadata": {},
   "outputs": [
    {
     "name": "stdout",
     "output_type": "stream",
     "text": [
      "115792089237316195423570985008687907853269984665640564039457584007913129639936\n"
     ]
    }
   ],
   "source": [
    "a = 115792089237316195423570985008687907853269984665640564039457584007913129639935\n",
    "print(a+1)"
   ]
  },
  {
   "cell_type": "code",
   "execution_count": 2,
   "metadata": {},
   "outputs": [
    {
     "name": "stdout",
     "output_type": "stream",
     "text": [
      "231584178474632390847141970017375815706539969331281128078915168015826259279870\n"
     ]
    }
   ],
   "source": [
    "print(a*2)"
   ]
  },
  {
   "cell_type": "markdown",
   "metadata": {},
   "source": [
    "_**Python 3 has NO real interger limit length!!**_ "
   ]
  },
  {
   "cell_type": "markdown",
   "metadata": {},
   "source": [
    "# Precision effects"
   ]
  },
  {
   "cell_type": "markdown",
   "metadata": {},
   "source": [
    "One important consequence of rounding error is that you should **NEVER Use an if statment to test equality of two floats.**  For instance, you should nerev, in any program, have a statment like:"
   ]
  },
  {
   "cell_type": "code",
   "execution_count": 3,
   "metadata": {},
   "outputs": [
    {
     "name": "stdout",
     "output_type": "stream",
     "text": [
      "What is x really : 3.3000000000000003\n"
     ]
    }
   ],
   "source": [
    "x = 3 * 1.1\n",
    "if x == 3.3:\n",
    "    print(\"x = \",x,\"and we have trigged the proper logic\")\n",
    "else:\n",
    "    print(\"What is x really :\", x)"
   ]
  },
  {
   "cell_type": "markdown",
   "metadata": {},
   "source": [
    "If you need to do a logic trigger based on a float:"
   ]
  },
  {
   "cell_type": "code",
   "execution_count": 4,
   "metadata": {},
   "outputs": [
    {
     "name": "stdout",
     "output_type": "stream",
     "text": [
      "x =  3.3000000000000003 and we have trigged the proper logic\n"
     ]
    }
   ],
   "source": [
    "epsilon = 1e-12\n",
    "if abs(x-3.3) < epsilon:\n",
    "    print(\"x = \",x,\"and we have trigged the proper logic\")\n",
    "else:\n",
    "    print(\"what is x really :\", x)"
   ]
  },
  {
   "cell_type": "markdown",
   "metadata": {},
   "source": [
    "## Which operations are most important in dealing with precision?\n",
    "\n",
    "__Subtraction__ and __Derivatives__"
   ]
  },
  {
   "cell_type": "markdown",
   "metadata": {},
   "source": [
    "## Subtraction\n",
    "\n",
    "a = b - c\n",
    "\n",
    "We have:   $fl(a) = fl(b) - fl(c) = a(1+\\epsilon_a)$  or\n",
    "            $fl(a) = b(1+\\epsilon_b) - c(1+\\epsilon_c)$\n",
    "            \n",
    "So, $fl(a)/a = 1 + \\epsilon_b (b/a) - \\epsilon_c (c/a)$\n",
    "\n",
    "IF $b \\sim c$, we have the potential of increased error on $fl(a)$\n",
    "\n",
    "\n",
    "If we have:\n",
    "\n",
    "$x = 1000000000000000$\n",
    "\n",
    "$y = 1000000000000001.2345678901234$\n",
    "\n",
    "as far the computer is concerned:\n",
    "    "
   ]
  },
  {
   "cell_type": "code",
   "execution_count": 5,
   "metadata": {},
   "outputs": [
    {
     "name": "stdout",
     "output_type": "stream",
     "text": [
      "1.25\n"
     ]
    }
   ],
   "source": [
    "x = 1000000000000000.0000000000000\n",
    "y = 1000000000000001.2345678901234\n",
    " \n",
    "print(y-x) \n"
   ]
  },
  {
   "cell_type": "markdown",
   "metadata": {},
   "source": [
    "**The true result should be 1.2345678901234!**\n",
    "\n",
    "In other words, instead of 16-figure accuracy we now only have three figures and the fractional error is a few percent of the true value.  This is much worse than before!\n",
    "\n",
    "\n",
    "To see another exanple of this in practice, consider two numbers:\n",
    "\n",
    "$x = 1$, and $ y = 1+10^{-14}\\sqrt 2$ \n",
    "\n",
    "Simply we can see that:\n",
    "\n",
    "$ 10^{14} (y - x) = \\sqrt 2$\n",
    "\n",
    "Let us try the same calculation in python:\n",
    " "
   ]
  },
  {
   "cell_type": "code",
   "execution_count": 6,
   "metadata": {},
   "outputs": [
    {
     "name": "stdout",
     "output_type": "stream",
     "text": [
      "1.4210854715202004\n",
      "1.4142135623730951\n",
      "Difference is: 0.006871909147105226\n"
     ]
    }
   ],
   "source": [
    "from math import sqrt\n",
    "x = 1.0\n",
    "y = 1.0 + (1e-14)*sqrt(2)\n",
    "\n",
    "print((1e14)*(y-x))\n",
    "print(sqrt(2))\n",
    "print(\"Difference is:\",(1e14)*(y-x)-sqrt(2))\n"
   ]
  },
  {
   "cell_type": "markdown",
   "metadata": {},
   "source": [
    "Again error off by a percent.  We need to be careful in how we code math!"
   ]
  },
  {
   "cell_type": "markdown",
   "metadata": {},
   "source": [
    "__Many Representations in math are broken down into series that are summed up.__  \n",
    "\n",
    "One tool to modify variable in python is used to do so, typically in loops.\n",
    "\n",
    "For example:  \n",
    "\n",
    "`m = m + 2` can be written in python as `m += 2`\n",
    "\n",
    "`n = n - 3` can be written in python as `n -= 3`\n",
    "\n",
    "`j = j * 4` can be written in python as `j += 4`\n",
    "\n",
    "`k = k / 5` can be written in python as `k /= 5`"
   ]
  },
  {
   "cell_type": "code",
   "execution_count": 7,
   "metadata": {},
   "outputs": [
    {
     "name": "stdout",
     "output_type": "stream",
     "text": [
      "Number = 10\n",
      "Divided by 2 now Number = 5.0\n",
      "Divided by 3 now Number = 1.6666666666666667\n",
      "Divided by 4 now Number = 0.4166666666666667\n",
      "Divided by 5 now Number = 0.08333333333333334\n",
      "Divided by 6 now Number = 0.01388888888888889\n",
      "Divided by 7 now Number = 0.0019841269841269845\n",
      "Divided by 8 now Number = 0.00024801587301587306\n",
      "Divided by 9 now Number = 2.7557319223985896e-05\n",
      "Divided by 10 now Number = 2.7557319223985897e-06\n",
      "Divided by 11 now Number = 2.5052108385441723e-07\n"
     ]
    }
   ],
   "source": [
    "import numpy as np\n",
    "number = 10\n",
    "print(\"Number =\", number)\n",
    "for g in (np.arange(10)+2):\n",
    "    number /= g\n",
    "    print(\"Divided by\",g,\"now Number =\",number)\n"
   ]
  },
  {
   "cell_type": "markdown",
   "metadata": {},
   "source": [
    "## Example 1:  Summing $1/n$ \n",
    "\n",
    "Consider the series:\n",
    "\n",
    "$$s_1 = \\sum_{n=1}^N \\frac{1}{n}$$ which is finite when N is finite, then consider\n",
    "\n",
    "$$s_2 = \\sum_{n=N}^1 \\frac{1}{n}$$ which when summed analyitically should give $s_2 = s_1$"
   ]
  },
  {
   "cell_type": "markdown",
   "metadata": {},
   "source": [
    "__Write a code to perform both of these to sums for N = 1e8 and compare the results__"
   ]
  },
  {
   "cell_type": "code",
   "execution_count": 17,
   "metadata": {},
   "outputs": [
    {
     "name": "stdout",
     "output_type": "stream",
     "text": [
      "18.997896413852555 18.997896413853447 Diff: -8.917311333789257e-13\n"
     ]
    }
   ],
   "source": [
    "s1, s2 = 0, 0\n",
    "\n",
    "# Write a code to perform both of these to sums for N = 1e8 and compare\n",
    "\n",
    "\n",
    "for i in range(1,100000001):   # from 1 to 1e8 +1 not inclusive of it\n",
    "    s1 += 1/i\n",
    "    \n",
    "for j in range(100000000,0,-1):    # starting from 1e8 to 0 not including 0 and in steps of -1\n",
    "    s2 += 1/j\n",
    "\n",
    "print(s1, s2, \"Diff:\", s1-s2)\n"
   ]
  },
  {
   "cell_type": "markdown",
   "metadata": {},
   "source": [
    "## Homework #7: Write functions for solving $e^{-x}$\n",
    "\n",
    "**REMINDER:** *All coding assignment will be turned in as .ipynb files, to the same PHYS_X0223 repository on GitHub.*   \n",
    "*They should be turned in with the following naming:*\n",
    "    \n",
    "    Lastname_Firstinitial_23_HW#.ipynb\n",
    "    "
   ]
  },
  {
   "cell_type": "markdown",
   "metadata": {},
   "source": [
    "\n",
    "\n",
    "There are three possible algorithms for computing $e^{-x}$\n",
    "\n",
    "1) **Simple:** Direct formula for $e^{-x}$  $$e^{-x} = \\sum_{n=0}^{\\infty} (-1)^n \\; \\frac{x^n}{n!}$$  \n",
    "\n",
    "\n",
    "2) **Inverse:** Formula for $1/e^{x}$: $$e^{x} = {\\sum_{n=0}^{\\infty} \\frac{x^n}{n!}}$$  Then take the inverse:   $$e^{-x} = \\frac{1}{e^{x}}$$\n",
    "\n",
    "\n",
    "3) **Recursion: (see example below)** based on direct formula $$e^{-x} = \\sum_{n=0}^{\\infty} s_n = \\sum_{n=0}^{\\infty} (-1)^n \\; \\frac{x^n}{n!}$$  where  $$ s_n = -s_{n-1} \\frac{x}{n}$$ and $$s_0 = 1$$\n",
    "\n",
    "\n",
    "__Your assignment:__\n",
    "\n",
    "1) Write a three functions to compute e^(-x), one foreach of the three methods above.  Start first with 20 terms of the summation (e.g., n = 20), but try more or less terms to see if you get a better answer. \n",
    "\n",
    "2) Then check their output for x = 1 - 100, in steps of 10. \n",
    "\n",
    "3) Compare all three caluculation to the numpy version of exp(-x) which is imported above. \n",
    "\n",
    "**(NOTE: They SHOULD NOT give the same answer due to Preciscion Effects!!)**\n"
   ]
  },
  {
   "cell_type": "code",
   "execution_count": 34,
   "metadata": {},
   "outputs": [
    {
     "name": "stdout",
     "output_type": "stream",
     "text": [
      "'x'    simple          inverse               recurse             NumPy\n",
      "--- ------ ------- ------- -----\n",
      "1 , 0.36787944117144245 , 0.3678794411714423 , 0.36787944117144245 , 0.36787944117144233\n",
      "11 , 1.670170206765736e-05 , 1.670170079024566e-05 , 1.6701701251681718e-05 , 1.670170079024566e-05\n",
      "21 , 4.67354049567923e-09 , 7.58256042791191e-10 , 1.5084316831131488e-08 , 7.582560427911907e-10\n",
      "31 , -0.00015587864219892314 , 3.442477108469977e-14 , 0.0002749934240651335 , 3.442477108469977e-14\n",
      "41 , 582.7018426336372 , 1.5628821893349907e-18 , 581.3392646560335 , 1.5628821893349888e-18\n",
      "51 , 2059198354095.211 , 7.095474165369858e-23 , 2059198376399.0938 , 7.095474162284704e-23\n",
      "61 , 1.3797605549420472e+20 , 3.2213458760200094e-27 , 1.3797605549525552e+20 , 3.221340285992516e-27\n",
      "71 , 5.9238434688027106e+26 , 1.4631650868058785e-31 , 5.9238434688026694e+26 , 1.462486227251231e-31\n",
      "81 , 3.372675113494064e+32 , 6.758850589981465e-36 , 3.3726751134940596e+32 , 6.639677199580735e-36\n",
      "91 , 4.082712787568478e+37 , 3.5865075075100545e-40 , 4.082712787568479e+37 , 3.0144087850653746e-40\n"
     ]
    }
   ],
   "source": [
    "import numpy as np\n",
    "import math\n",
    "#np.exp(-1)\n",
    "\n",
    "# write a function to compute e^(-x) for all three methods \n",
    "# Then check their output for x = 1 - 101, in steps of 10 and \n",
    "# Compare to the numpy version of exp(-x) which is imported above. \n",
    "def e_minusx_simple(x):\n",
    "    # code here\n",
    "    e_minusx = 1\n",
    "    for n in range(1,101):\n",
    "        e_minusx += ((-1)**n) * ((x**n) / math.factorial(n))\n",
    "    return e_minusx\n",
    "    \n",
    "    #emxsmp = -9999 #dummy error vaule to allow print until you finish function code\n",
    "    #return emxsmp\n",
    "\n",
    "def e_minusx_inverse(x):\n",
    "    # code here\n",
    "    emxinv = 1\n",
    "    for n in range(1,101):\n",
    "        emxinv += ((x**n) / math.factorial(n))\n",
    "    return 1/emxinv\n",
    "\n",
    "# note use a function for s_n (See example below)\n",
    "def e_minusx_recurse(x):\n",
    "    # code here\n",
    "    \n",
    "    s_n = 1\n",
    "    emxrec = 1\n",
    "    for n in range(1,101):\n",
    "        s_n *= - x/n\n",
    "        emxrec += s_n\n",
    "    return emxrec\n",
    "\n",
    "print(\"'x'    simple          inverse               recurse             NumPy\")\n",
    "print(\"--- ------ ------- ------- -----\")\n",
    "\n",
    "for x in range(1,101,10):\n",
    "    print(x,\",\", e_minusx_simple(x),\",\", e_minusx_inverse(x),\",\", e_minusx_recurse(x),\",\", np.exp(-1*x))\n",
    "\n",
    "    # need to figure out how to make it neatly columns!"
   ]
  },
  {
   "cell_type": "markdown",
   "metadata": {},
   "source": [
    "### Recursion Example"
   ]
  },
  {
   "cell_type": "code",
   "execution_count": 18,
   "metadata": {},
   "outputs": [
    {
     "name": "stdout",
     "output_type": "stream",
     "text": [
      "The factorial of 5 is 120\n"
     ]
    }
   ],
   "source": [
    "def factorial(x):\n",
    "    \"\"\"This is a recursive function to find the factorial of an integer\"\"\"\n",
    "    if x == 1:\n",
    "        return 1\n",
    "    else:\n",
    "        return (x * factorial(x-1)) # the function calls itself here!!\n",
    "# Testing it below.\n",
    "num = 5\n",
    "print(\"The factorial of\", num, \"is\", factorial(num))"
   ]
  },
  {
   "cell_type": "code",
   "execution_count": null,
   "metadata": {},
   "outputs": [],
   "source": []
  },
  {
   "cell_type": "code",
   "execution_count": null,
   "metadata": {},
   "outputs": [],
   "source": []
  }
 ],
 "metadata": {
  "kernelspec": {
   "display_name": "Python 3 (ipykernel)",
   "language": "python",
   "name": "python3"
  },
  "language_info": {
   "codemirror_mode": {
    "name": "ipython",
    "version": 3
   },
   "file_extension": ".py",
   "mimetype": "text/x-python",
   "name": "python",
   "nbconvert_exporter": "python",
   "pygments_lexer": "ipython3",
   "version": "3.11.5"
  }
 },
 "nbformat": 4,
 "nbformat_minor": 4
}
