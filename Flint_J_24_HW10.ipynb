{
 "cells": [
  {
   "cell_type": "markdown",
   "metadata": {},
   "source": [
    "# Phyiscs Problems - Lectures 22 & 23 - Homework 10\n",
    "\n",
    "FALL 2024\n"
   ]
  },
  {
   "cell_type": "markdown",
   "metadata": {},
   "source": [
    "### 1) Altitude of a satellite\n",
    "\n",
    "A satellite is to be launched into a circular orbit around the Earth so that it orbits the planet once every T seconds.\n",
    "\n",
    "The altitude h above the Earth’s surface that the satellite must have is:\n",
    "\n",
    "$$h = \\left( \\frac{G M T^2}{4\\pi^2} \\right)^{1/3} - R$$\n",
    "\n",
    "where $G = 6.67 \\times 10^{-11}$ m$^3$ kg$^{-1}$ s$^{-2}$\n",
    "is Newton's gravitational constant, $M = 5.97 \\times 10^{24}$ kg is the mass of the Earth, and $R = 6371$ km is its radius.\n",
    "\n",
    "#### Write a function that asks the user to enter the desired value of T and then calculates and prints out the correct altitude in meters.\n"
   ]
  },
  {
   "cell_type": "code",
   "execution_count": 20,
   "metadata": {},
   "outputs": [
    {
     "name": "stdout",
     "output_type": "stream",
     "text": [
      "Enter orbital period T (in seconds): 120\n",
      "The altitude is -5845344.789733462\n"
     ]
    }
   ],
   "source": [
    "import math\n",
    "\n",
    "G = 6.67*10**-11 # m^3 kg^−1 s^-2\n",
    "M = 5.97*10**24 # kg\n",
    "R = 6371*1000 # m\n",
    "T = int(input(\"Enter orbital period T (in seconds): \"))\n",
    "\n",
    "def altitude(T):\n",
    "    h = ((G*M*T**2)/(4*math.pi**2))**(1/3) - R\n",
    "    return h\n",
    "print('The altitude is', altitude(T))"
   ]
  },
  {
   "cell_type": "markdown",
   "metadata": {},
   "source": [
    "Use your program to calculate the altitudes of satellites that orbit the Earth once\n",
    "a day (so-called “geosynchronous” orbit), once every 90 minutes, and once every\n",
    "45 minutes. What do you conclude from the last of these calculations?\n",
    "\n",
    "\n",
    "\n"
   ]
  },
  {
   "cell_type": "code",
   "execution_count": 21,
   "metadata": {},
   "outputs": [
    {
     "name": "stdout",
     "output_type": "stream",
     "text": [
      "24 hours: Altitude = 35855910.17617497 ; 90 min: Altitude = 279321.62537285965 ;  45 min: Altitude = -2181559.8978108233\n"
     ]
    }
   ],
   "source": [
    "geosync = 24*60*60 # (seconds)\n",
    "hourhalf = 90*60 # (seconds)\n",
    "min45 = 45*60 # (seconds)\n",
    "print(\"24 hours: Altitude =\",altitude(geosync), \"; 90 min: Altitude =\",altitude(hourhalf),\n",
    "      \";  45 min: Altitude =\",altitude(min45))"
   ]
  },
  {
   "cell_type": "markdown",
   "metadata": {},
   "source": [
    "the last altitude calculation for 45 minutes is calculating an altitude that is negative which means that in order to orbit the earth that fast it would have to be that far under the surface of the earth."
   ]
  },
  {
   "cell_type": "markdown",
   "metadata": {},
   "source": [
    "Technically a geosynchronous satellite is one that orbits the Earth once persidereal\n",
    "day, which is 23.93 hours, not 24 hours. Why is this? And how much difference\n",
    "will it make to the altitude of the satellite?"
   ]
  },
  {
   "cell_type": "code",
   "execution_count": 22,
   "metadata": {},
   "outputs": [
    {
     "name": "stdout",
     "output_type": "stream",
     "text": [
      "24 hours: Altitude = 35855910.17617497 ; 23.93 hours: Altitude = 35773762.329895645\n"
     ]
    }
   ],
   "source": [
    "persidereal = 23.93*60*60 # (seconds)\n",
    "print(\"24 hours: Altitude =\",altitude(geosync), \"; 23.93 hours: Altitude =\",altitude(persidereal))"
   ]
  },
  {
   "cell_type": "markdown",
   "metadata": {},
   "source": [
    "the orbit isnt a true 24 hours so when calculating the altitude using the correct time we get a much smaller number. The rounded time of 24 hours gives us an altitude 82147.8462793 meters too much"
   ]
  },
  {
   "cell_type": "markdown",
   "metadata": {},
   "source": [
    "#### Modify your code to calculate the times from 0.5 hour  to 30 days, in steps of 0.5 hours.   Then plot those data points (time vs h) with properly labled axes.  Plot orbits with height below 0 as red, and plots positive heeghts with times less than geosynchronous in blue and those longer in green."
   ]
  },
  {
   "cell_type": "code",
   "execution_count": 43,
   "metadata": {},
   "outputs": [
    {
     "data": {
      "image/png": "[encoded data removed]",
      "text/plain": [
       "<Figure size 1200x600 with 1 Axes>"
      ]
     },
     "metadata": {},
     "output_type": "display_data"
    }
   ],
   "source": [
    "import math\n",
    "import numpy as np\n",
    "import matplotlib.pyplot as plt\n",
    "\n",
    "G = 6.67 * 10**-11  # m^3 kg^−1 s^-2\n",
    "M = 5.97 * 10**24  # kg\n",
    "R = 6371 * 1000    # m\n",
    "\n",
    "def altitude(T):\n",
    "    h = ((G * M * T**2) / (4 * math.pi**2))**(1/3) - R\n",
    "    return h\n",
    "\n",
    "time_h = np.arange(0.5, 30 * 24 + 0.5, 0.5)  # (hours)\n",
    "time_s = time_h * 3600  # (seconds)\n",
    "\n",
    "altitudes = [altitude(T) for T in time_s]\n",
    "\n",
    "\n",
    "plt.figure(figsize=(12, 6))\n",
    "for t, h in zip(time_h, altitudes):\n",
    "    if h < 0:\n",
    "        plt.scatter(t, h, color='red')\n",
    "    elif t < 24:\n",
    "        plt.scatter(t, h, color='blue')\n",
    "    else:\n",
    "        plt.scatter(t, h, color='green')\n",
    "\n",
    "\n",
    "plt.xlabel('Orbital Period (hours)')\n",
    "plt.ylabel('Altitude (m)')\n",
    "plt.show()\n"
   ]
  },
  {
   "cell_type": "markdown",
   "metadata": {},
   "source": [
    "### 2) Special Relativity\n",
    "\n",
    "A spaceship travels from Earth in a straight line at a (relativistic)\n",
    "speed $v$ to another planet $x$ light years away. Write a program to ask\n",
    "the user for the value of $x$ and the speed $v$ as a fraction of the speed\n",
    "of light, then print out the time in years that the spaceship takes to\n",
    "reach its destination (a) in the rest frame of an observer on Earth\n",
    "and (b) as perceived by a passenger on board the ship.\n",
    "\n",
    "$$x' = \\gamma (x - vt)$$\n",
    "\n",
    "$$t' = \\gamma \\left(t - \\frac{v x}{c^2}\\right)$$\n",
    "\n",
    "$$\\gamma = \\frac{1}{\\sqrt{1 - \\frac{v^2}{c^2}}}$$\n"
   ]
  },
  {
   "cell_type": "code",
   "execution_count": 38,
   "metadata": {},
   "outputs": [
    {
     "name": "stdout",
     "output_type": "stream",
     "text": [
      "value of x (in light years):3\n",
      "value of v (as a fraction of the speed of light):0.3\n",
      "-----------------------------------------------------\n",
      "Observing from Earth it takes 10.0 years\n",
      "Observing from the ship it takes 9.539392014169458 years\n"
     ]
    }
   ],
   "source": [
    "import math\n",
    "\n",
    "x = float(input(\"value of x (in light years):\")) \n",
    "v = float(input(\"value of v (as a fraction of the speed of light):\"))\n",
    "c = 3*10**8 # m/s\n",
    "\n",
    "def gamma(v):\n",
    "    return 1 / math.sqrt(1 - v**2)\n",
    "\n",
    "def t_earth(x,v):\n",
    "    return x /v\n",
    "    \n",
    "def t_ship(x,v):\n",
    "    return t_earth(x,v) / gamma(v)\n",
    "    \n",
    "\n",
    "print('-----------------------------------------------------')\n",
    "print('Observing from Earth it takes', t_earth(x,v), 'years')\n",
    "print('Observing from the ship it takes', t_ship(x,v), 'years')\n",
    "    "
   ]
  },
  {
   "cell_type": "markdown",
   "metadata": {},
   "source": [
    "#### Use your program to calculate the answers for a planet 10 light years away with $v = 0.90c$,  $v = 0.98c$, $v = 0.999c$."
   ]
  },
  {
   "cell_type": "code",
   "execution_count": 39,
   "metadata": {},
   "outputs": [
    {
     "name": "stdout",
     "output_type": "stream",
     "text": [
      "at 0.90𝑐 observing from Earth it takes 11.11111111111111 years\n",
      "at 0.90𝑐 bserving from the ship it takes 4.843221048378525 years\n",
      "-----------------------------------------------------\n",
      "at 0.98𝑐 observing from Earth it takes 10.204081632653061 years\n",
      "at 0.98𝑐 bserving from the ship it takes 2.030586606340043 years\n",
      "-----------------------------------------------------\n",
      "at 0.999𝑐 observing from Earth it takes 10.01001001001001 years\n",
      "at 0.999𝑐 bserving from the ship it takes 0.4475493274496098 years\n"
     ]
    }
   ],
   "source": [
    "import math\n",
    "\n",
    "x = 10 \n",
    "v1 = 0.9 #c\n",
    "v2 = 0.98 #c\n",
    "v3 = 0.999 #c\n",
    "c = 3*10**8 # m/s\n",
    "\n",
    "# v 1 --------------------------\n",
    "def gamma(v1):\n",
    "    return 1 / math.sqrt(1 - v1**2)\n",
    "\n",
    "def t_earth(x,v1):\n",
    "    return x /v1\n",
    "    \n",
    "def t_ship(x,v1):\n",
    "    return t_earth(x,v1) / gamma(v1)\n",
    "\n",
    "# v 2 -------------------------\n",
    "def gamma(v2):\n",
    "    return 1 / math.sqrt(1 - v2**2)\n",
    "\n",
    "def t_earth(x,v2):\n",
    "    return x /v2\n",
    "    \n",
    "def t_ship(x,v2):\n",
    "    return t_earth(x,v2) / gamma(v2)\n",
    "\n",
    "# v 3 --------------------------\n",
    "def gamma(v3):\n",
    "    return 1 / math.sqrt(1 - v3**2)\n",
    "\n",
    "def t_earth(x,v3):\n",
    "    return x /v3\n",
    "    \n",
    "def t_ship(x,v3):\n",
    "    return t_earth(x,v3) / gamma(v3)\n",
    "\n",
    "\n",
    "print('at 0.90𝑐 observing from Earth it takes', t_earth(x,v1), 'years')\n",
    "print('at 0.90𝑐 bserving from the ship it takes', t_ship(x,v1), 'years')\n",
    "print('-----------------------------------------------------')\n",
    "print('at 0.98𝑐 observing from Earth it takes', t_earth(x,v2), 'years')\n",
    "print('at 0.98𝑐 bserving from the ship it takes', t_ship(x,v2), 'years')\n",
    "print('-----------------------------------------------------')\n",
    "print('at 0.999𝑐 observing from Earth it takes', t_earth(x,v3), 'years')\n",
    "print('at 0.999𝑐 bserving from the ship it takes', t_ship(x,v3), 'years')"
   ]
  },
  {
   "cell_type": "markdown",
   "metadata": {},
   "source": [
    "### 3) The quadratic equation\n",
    "\n",
    " Write a program that takes as input three numbers, $a$, $b$, and $c$, and prints out the two solutions to the quadratic equation $ax^2 + bx + c = 0$ using the standard\n",
    "formula:\n",
    "\n",
    "$$x = \\frac{-b \\pm \\sqrt{b^2 - 4ac}}{2a}$$\n",
    "\n",
    "Use your program to compute the solutions of $0.001x^2 + 1000x + 0.001 = 0$."
   ]
  },
  {
   "cell_type": "code",
   "execution_count": 44,
   "metadata": {},
   "outputs": [
    {
     "name": "stdout",
     "output_type": "stream",
     "text": [
      "Enter the value of a: 0.001\n",
      "Enter the value of b: 1000\n",
      "Enter the value of c: 0.001\n",
      "The solutions are: -9.999894245993346e-07 and -999999.999999\n"
     ]
    }
   ],
   "source": [
    "import math\n",
    "\n",
    "a = float(input(\"Enter the value of a: \"))\n",
    "b = float(input(\"Enter the value of b: \"))\n",
    "c = float(input(\"Enter the value of c: \"))\n",
    "\n",
    "root1 = (-b + math.sqrt(b**2 - 4*a*c)) / (2 * a)\n",
    "root2 = (-b - math.sqrt(b**2 - 4*a*c)) / (2 * a)\n",
    "print(\"The solutions are:\", root1, \"and\", root2)"
   ]
  },
  {
   "cell_type": "markdown",
   "metadata": {},
   "source": [
    "There is another way to write the solutions to a quadratic equation. Multiplying top and bottom of the solution above by $-b \\mp \\sqrt{b^2 - 4ac}$, show that the solutions\n",
    "can also be written as:\n",
    "\n",
    "$$x = \\frac{2c}{-b \\mp \\sqrt{b^2 - 4ac}}$$\n",
    "\n",
    "Add further lines to your program to print these values in addition to the earlier ones and again use the program to solve $0.001x^2 + 1000x + 0.001 = 0$. What do you see? How do you explain it?"
   ]
  },
  {
   "cell_type": "code",
   "execution_count": 47,
   "metadata": {},
   "outputs": [
    {
     "name": "stdout",
     "output_type": "stream",
     "text": [
      "roots (standard formula): -9.999894245993346e-07 and -999999.999999\n",
      "roots (alternative formula): -1000010.5755125057 and -1.000000000001e-06\n"
     ]
    }
   ],
   "source": [
    "import math\n",
    "a = 0.001\n",
    "b = 1000\n",
    "c = 0.001\n",
    "\n",
    "# standard formula\n",
    "x1 = (-b + math.sqrt(b**2 - 4*a*c)) / (2*a)\n",
    "x2 = (-b - math.sqrt(b**2 - 4*a*c)) / (2*a)\n",
    "print(\"roots (standard formula):\", x1, \"and\", x2)\n",
    "        \n",
    "#alternative formula\n",
    "x1_alt = (2*c) / (-b + math.sqrt(b**2 - 4*a*c))\n",
    "x2_alt = (2*c) / (-b - math.sqrt(b**2 - 4*a*c))\n",
    "print(\"roots (alternative formula):\", x1_alt, \"and\", x2_alt)\n",
    "\n"
   ]
  },
  {
   "cell_type": "markdown",
   "metadata": {},
   "source": [
    "Using what you have learned, write a new program that calculates both roots of a quadratic equation accurately in all cases. \n",
    "\n",
    "__(NOTE: MANY Online quadratic equation are WRONG, so careful how you check!!!).__"
   ]
  },
  {
   "cell_type": "code",
   "execution_count": 54,
   "metadata": {},
   "outputs": [
    {
     "name": "stdout",
     "output_type": "stream",
     "text": [
      "roots: -999999.999999 and -1.000000000001e-06\n"
     ]
    }
   ],
   "source": [
    "import math\n",
    "a = 0.001\n",
    "b = 1000\n",
    "c = 0.001\n",
    "\n",
    "if b > 0:\n",
    "    x1 = (-b - math.sqrt(b**2 - 4*a*c)) / (2*a)\n",
    "else:\n",
    "    x1 = (-b + math.sqrt(b**2 - 4*a*c)) / (2*a)\n",
    "        \n",
    "x2 = c / (a * x1)\n",
    "        \n",
    "print(\"roots:\", x1, \"and\", x2)\n"
   ]
  },
  {
   "cell_type": "code",
   "execution_count": null,
   "metadata": {},
   "outputs": [],
   "source": []
  }
 ],
 "metadata": {
  "kernelspec": {
   "display_name": "Python 3 (ipykernel)",
   "language": "python",
   "name": "python3"
  },
  "language_info": {
   "codemirror_mode": {
    "name": "ipython",
    "version": 3
   },
   "file_extension": ".py",
   "mimetype": "text/x-python",
   "name": "python",
   "nbconvert_exporter": "python",
   "pygments_lexer": "ipython3",
   "version": "3.11.5"
  }
 },
 "nbformat": 4,
 "nbformat_minor": 4
}
